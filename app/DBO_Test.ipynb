{
 "cells": [
  {
   "cell_type": "code",
   "execution_count": 34,
   "id": "bdc847bd",
   "metadata": {},
   "outputs": [],
   "source": [
    "import pandas as pd\n",
    "import hvplot.pandas\n",
    "import panel as pn\n",
    "import holoviews as hv\n",
    "pn.extension('tabulator')\n",
    "#hv.extension('bokeh')\n",
    "\n",
    "# going to use show() to open plot in browser\n",
    "#from bokeh.plotting import show\n"
   ]
  },
  {
   "cell_type": "code",
   "execution_count": 35,
   "id": "59978da9-ec91-4fab-9f8a-a3c186a7af90",
   "metadata": {},
   "outputs": [
    {
     "data": {
      "text/html": [
       "<div>\n",
       "<style scoped>\n",
       "    .dataframe tbody tr th:only-of-type {\n",
       "        vertical-align: middle;\n",
       "    }\n",
       "\n",
       "    .dataframe tbody tr th {\n",
       "        vertical-align: top;\n",
       "    }\n",
       "\n",
       "    .dataframe thead th {\n",
       "        text-align: right;\n",
       "    }\n",
       "</style>\n",
       "<table border=\"1\" class=\"dataframe\">\n",
       "  <thead>\n",
       "    <tr style=\"text-align: right;\">\n",
       "      <th></th>\n",
       "      <th>PainLevel</th>\n",
       "      <th>Frequency</th>\n",
       "    </tr>\n",
       "  </thead>\n",
       "  <tbody>\n",
       "    <tr>\n",
       "      <th>0</th>\n",
       "      <td>2</td>\n",
       "      <td>5344</td>\n",
       "    </tr>\n",
       "    <tr>\n",
       "      <th>1</th>\n",
       "      <td>1</td>\n",
       "      <td>4824</td>\n",
       "    </tr>\n",
       "    <tr>\n",
       "      <th>2</th>\n",
       "      <td>3</td>\n",
       "      <td>3257</td>\n",
       "    </tr>\n",
       "    <tr>\n",
       "      <th>3</th>\n",
       "      <td>5</td>\n",
       "      <td>2198</td>\n",
       "    </tr>\n",
       "    <tr>\n",
       "      <th>4</th>\n",
       "      <td>7</td>\n",
       "      <td>2143</td>\n",
       "    </tr>\n",
       "    <tr>\n",
       "      <th>5</th>\n",
       "      <td>6</td>\n",
       "      <td>2113</td>\n",
       "    </tr>\n",
       "    <tr>\n",
       "      <th>6</th>\n",
       "      <td>4</td>\n",
       "      <td>1817</td>\n",
       "    </tr>\n",
       "    <tr>\n",
       "      <th>7</th>\n",
       "      <td>8</td>\n",
       "      <td>942</td>\n",
       "    </tr>\n",
       "    <tr>\n",
       "      <th>8</th>\n",
       "      <td>9</td>\n",
       "      <td>346</td>\n",
       "    </tr>\n",
       "    <tr>\n",
       "      <th>9</th>\n",
       "      <td>10</td>\n",
       "      <td>153</td>\n",
       "    </tr>\n",
       "  </tbody>\n",
       "</table>\n",
       "</div>"
      ],
      "text/plain": [
       "   PainLevel  Frequency\n",
       "0          2       5344\n",
       "1          1       4824\n",
       "2          3       3257\n",
       "3          5       2198\n",
       "4          7       2143\n",
       "5          6       2113\n",
       "6          4       1817\n",
       "7          8        942\n",
       "8          9        346\n",
       "9         10        153"
      ]
     },
     "execution_count": 35,
     "metadata": {},
     "output_type": "execute_result"
    }
   ],
   "source": [
    "\n",
    "d = {'PainLevel': [2, 1, 3, 5, 7, 6, 4, 8, 9, 10], 'Frequency': [5344, 4824, 3257, 2198, 2143, 2113, 1817, 942, 346, 153]}\n",
    "df = pd.DataFrame(data=d)\n",
    "df"
   ]
  },
  {
   "cell_type": "code",
   "execution_count": 36,
   "id": "9f9bcfc0-e63d-4258-ad78-40d0c4152683",
   "metadata": {},
   "outputs": [
    {
     "name": "stderr",
     "output_type": "stream",
     "text": [
      "WARNING:param.ParamFunction03060: The function 'evaluate' does not have any dependencies and will never update. Are you sure you did not intend to depend on or bind a parameter or widget to this function? If not simply call the function before passing it to Panel. Otherwise, when passing a parameter as an argument, ensure you pass at least one parameter and reference the actual parameter object not the current value, i.e. use object.param.parameter not object.parameter.\n"
     ]
    },
    {
     "data": {},
     "metadata": {},
     "output_type": "display_data"
    },
    {
     "data": {
      "application/vnd.holoviews_exec.v0+json": "",
      "text/html": [
       "<div id='1606'>\n",
       "  <div class=\"bk-root\" id=\"66b6b9c5-6a2a-404d-ac6f-95f2f6f50987\" data-root-id=\"1606\"></div>\n",
       "</div>\n",
       "<script type=\"application/javascript\">(function(root) {\n",
       "  function embed_document(root) {\n",
       "    var docs_json = {\"680231dd-25f1-41a4-aeee-5fec9af62fbd\":{\"defs\":[{\"extends\":null,\"module\":null,\"name\":\"ReactiveHTML1\",\"overrides\":[],\"properties\":[]},{\"extends\":null,\"module\":null,\"name\":\"FlexBox1\",\"overrides\":[],\"properties\":[{\"default\":\"flex-start\",\"kind\":null,\"name\":\"align_content\"},{\"default\":\"flex-start\",\"kind\":null,\"name\":\"align_items\"},{\"default\":\"row\",\"kind\":null,\"name\":\"flex_direction\"},{\"default\":\"wrap\",\"kind\":null,\"name\":\"flex_wrap\"},{\"default\":\"flex-start\",\"kind\":null,\"name\":\"justify_content\"}]},{\"extends\":null,\"module\":null,\"name\":\"GridStack1\",\"overrides\":[],\"properties\":[{\"default\":\"warn\",\"kind\":null,\"name\":\"mode\"},{\"default\":null,\"kind\":null,\"name\":\"ncols\"},{\"default\":null,\"kind\":null,\"name\":\"nrows\"},{\"default\":true,\"kind\":null,\"name\":\"allow_resize\"},{\"default\":true,\"kind\":null,\"name\":\"allow_drag\"},{\"default\":[],\"kind\":null,\"name\":\"state\"}]},{\"extends\":null,\"module\":null,\"name\":\"click1\",\"overrides\":[],\"properties\":[{\"default\":\"\",\"kind\":null,\"name\":\"terminal_output\"},{\"default\":\"\",\"kind\":null,\"name\":\"debug_name\"},{\"default\":0,\"kind\":null,\"name\":\"clears\"}]},{\"extends\":null,\"module\":null,\"name\":\"NotificationAreaBase1\",\"overrides\":[],\"properties\":[{\"default\":\"bottom-right\",\"kind\":null,\"name\":\"position\"},{\"default\":0,\"kind\":null,\"name\":\"_clear\"}]},{\"extends\":null,\"module\":null,\"name\":\"NotificationArea1\",\"overrides\":[],\"properties\":[{\"default\":[],\"kind\":null,\"name\":\"notifications\"},{\"default\":\"bottom-right\",\"kind\":null,\"name\":\"position\"},{\"default\":0,\"kind\":null,\"name\":\"_clear\"},{\"default\":[{\"background\":\"#ffc107\",\"icon\":{\"className\":\"fas fa-exclamation-triangle\",\"color\":\"white\",\"tagName\":\"i\"},\"type\":\"warning\"},{\"background\":\"#007bff\",\"icon\":{\"className\":\"fas fa-info-circle\",\"color\":\"white\",\"tagName\":\"i\"},\"type\":\"info\"}],\"kind\":null,\"name\":\"types\"}]},{\"extends\":null,\"module\":null,\"name\":\"Notification\",\"overrides\":[],\"properties\":[{\"default\":null,\"kind\":null,\"name\":\"background\"},{\"default\":3000,\"kind\":null,\"name\":\"duration\"},{\"default\":null,\"kind\":null,\"name\":\"icon\"},{\"default\":\"\",\"kind\":null,\"name\":\"message\"},{\"default\":null,\"kind\":null,\"name\":\"notification_type\"},{\"default\":false,\"kind\":null,\"name\":\"_destroyed\"}]},{\"extends\":null,\"module\":null,\"name\":\"TemplateActions1\",\"overrides\":[],\"properties\":[{\"default\":0,\"kind\":null,\"name\":\"open_modal\"},{\"default\":0,\"kind\":null,\"name\":\"close_modal\"}]},{\"extends\":null,\"module\":null,\"name\":\"MaterialTemplateActions1\",\"overrides\":[],\"properties\":[{\"default\":0,\"kind\":null,\"name\":\"open_modal\"},{\"default\":0,\"kind\":null,\"name\":\"close_modal\"}]}],\"roots\":{\"references\":[{\"attributes\":{\"margin\":[5,5,5,5],\"name\":\"DataFrame03077\",\"text\":\"&lt;table border=&quot;0&quot; class=&quot;dataframe panel-df&quot;&gt;\\n  &lt;thead&gt;\\n    &lt;tr style=&quot;text-align: right;&quot;&gt;\\n      &lt;th&gt;&lt;/th&gt;\\n      &lt;th&gt;PainLevel&lt;/th&gt;\\n      &lt;th&gt;Frequency&lt;/th&gt;\\n    &lt;/tr&gt;\\n  &lt;/thead&gt;\\n  &lt;tbody&gt;\\n    &lt;tr&gt;\\n      &lt;th&gt;0&lt;/th&gt;\\n      &lt;td&gt;True&lt;/td&gt;\\n      &lt;td&gt;True&lt;/td&gt;\\n    &lt;/tr&gt;\\n    &lt;tr&gt;\\n      &lt;th&gt;1&lt;/th&gt;\\n      &lt;td&gt;True&lt;/td&gt;\\n      &lt;td&gt;True&lt;/td&gt;\\n    &lt;/tr&gt;\\n    &lt;tr&gt;\\n      &lt;th&gt;2&lt;/th&gt;\\n      &lt;td&gt;True&lt;/td&gt;\\n      &lt;td&gt;True&lt;/td&gt;\\n    &lt;/tr&gt;\\n    &lt;tr&gt;\\n      &lt;th&gt;3&lt;/th&gt;\\n      &lt;td&gt;True&lt;/td&gt;\\n      &lt;td&gt;True&lt;/td&gt;\\n    &lt;/tr&gt;\\n    &lt;tr&gt;\\n      &lt;th&gt;4&lt;/th&gt;\\n      &lt;td&gt;True&lt;/td&gt;\\n      &lt;td&gt;True&lt;/td&gt;\\n    &lt;/tr&gt;\\n    &lt;tr&gt;\\n      &lt;th&gt;5&lt;/th&gt;\\n      &lt;td&gt;True&lt;/td&gt;\\n      &lt;td&gt;True&lt;/td&gt;\\n    &lt;/tr&gt;\\n    &lt;tr&gt;\\n      &lt;th&gt;6&lt;/th&gt;\\n      &lt;td&gt;True&lt;/td&gt;\\n      &lt;td&gt;True&lt;/td&gt;\\n    &lt;/tr&gt;\\n    &lt;tr&gt;\\n      &lt;th&gt;7&lt;/th&gt;\\n      &lt;td&gt;True&lt;/td&gt;\\n      &lt;td&gt;True&lt;/td&gt;\\n    &lt;/tr&gt;\\n    &lt;tr&gt;\\n      &lt;th&gt;8&lt;/th&gt;\\n      &lt;td&gt;True&lt;/td&gt;\\n      &lt;td&gt;True&lt;/td&gt;\\n    &lt;/tr&gt;\\n    &lt;tr&gt;\\n      &lt;th&gt;9&lt;/th&gt;\\n      &lt;td&gt;True&lt;/td&gt;\\n      &lt;td&gt;True&lt;/td&gt;\\n    &lt;/tr&gt;\\n    &lt;tr&gt;\\n      &lt;th&gt;10&lt;/th&gt;\\n      &lt;td&gt;True&lt;/td&gt;\\n      &lt;td&gt;True&lt;/td&gt;\\n    &lt;/tr&gt;\\n  &lt;/tbody&gt;\\n&lt;/table&gt;\"},\"id\":\"1612\",\"type\":\"panel.models.markup.HTML\"},{\"attributes\":{\"children\":[{\"id\":\"1609\"},{\"id\":\"1610\"}],\"margin\":[0,0,0,0],\"name\":\"Row03080\"},\"id\":\"1608\",\"type\":\"Row\"},{\"attributes\":{\"children\":[{\"id\":\"1608\"},{\"id\":\"1611\"}],\"margin\":[0,0,0,0],\"name\":\"Column03081\"},\"id\":\"1607\",\"type\":\"Column\"},{\"attributes\":{\"margin\":[0,0,0,0],\"name\":\"Column03059\"},\"id\":\"1609\",\"type\":\"Column\"},{\"attributes\":{\"margin\":[5,5,5,5],\"name\":\"HSpacer03079\",\"sizing_mode\":\"stretch_width\"},\"id\":\"1610\",\"type\":\"Spacer\"},{\"attributes\":{\"children\":[{\"id\":\"1607\"}],\"margin\":[0,0,0,0],\"name\":\"Row03082\"},\"id\":\"1606\",\"type\":\"Row\"},{\"attributes\":{\"children\":[{\"id\":\"1612\"}],\"margin\":[0,0,0,0],\"name\":\"Row03064\"},\"id\":\"1611\",\"type\":\"Row\"},{\"attributes\":{\"client_comm_id\":\"c1c9e33aa9be4f4a8647388828381959\",\"comm_id\":\"626e47fb03784f6bbba2c9226bd70d20\",\"plot_id\":\"1606\"},\"id\":\"1613\",\"type\":\"panel.models.comm_manager.CommManager\"}],\"root_ids\":[\"1606\",\"1613\"]},\"title\":\"Bokeh Application\",\"version\":\"2.4.3\"}};\n",
       "    var render_items = [{\"docid\":\"680231dd-25f1-41a4-aeee-5fec9af62fbd\",\"root_ids\":[\"1606\"],\"roots\":{\"1606\":\"66b6b9c5-6a2a-404d-ac6f-95f2f6f50987\"}}];\n",
       "    root.Bokeh.embed.embed_items_notebook(docs_json, render_items);\n",
       "  }\n",
       "  if (root.Bokeh !== undefined && root.Bokeh.Panel !== undefined && ( root['Tabulator'] !== undefined) && ( root['Tabulator'] !== undefined) && ( root['Tabulator'] !== undefined)) {\n",
       "    embed_document(root);\n",
       "  } else {\n",
       "    var attempts = 0;\n",
       "    var timer = setInterval(function(root) {\n",
       "      if (root.Bokeh !== undefined && root.Bokeh.Panel !== undefined && (root['Tabulator'] !== undefined) && (root['Tabulator'] !== undefined) && (root['Tabulator'] !== undefined)) {\n",
       "        clearInterval(timer);\n",
       "        embed_document(root);\n",
       "      } else if (document.readyState == \"complete\") {\n",
       "        attempts++;\n",
       "        if (attempts > 200) {\n",
       "          clearInterval(timer);\n",
       "          console.log(\"Bokeh: ERROR: Unable to run BokehJS code because BokehJS library is missing\");\n",
       "        }\n",
       "      }\n",
       "    }, 25, root)\n",
       "  }\n",
       "})(window);</script>"
      ],
      "text/plain": [
       "<hvplot.interactive.Interactive at 0x1e09d8ac748>"
      ]
     },
     "execution_count": 36,
     "metadata": {
      "application/vnd.holoviews_exec.v0+json": {
       "id": "1606"
      }
     },
     "output_type": "execute_result"
    }
   ],
   "source": [
    "idf == df.interactive()"
   ]
  },
  {
   "cell_type": "code",
   "execution_count": 37,
   "id": "57f295f6",
   "metadata": {},
   "outputs": [
    {
     "data": {},
     "metadata": {},
     "output_type": "display_data"
    },
    {
     "data": {
      "application/vnd.holoviews_exec.v0+json": "",
      "text/html": [
       "<div id='1614'>\n",
       "  <div class=\"bk-root\" id=\"5609578a-fa9e-43d3-a82b-a735a664e106\" data-root-id=\"1614\"></div>\n",
       "</div>\n",
       "<script type=\"application/javascript\">(function(root) {\n",
       "  function embed_document(root) {\n",
       "    var docs_json = {\"90054ac4-f092-40fd-a3b3-e8f81c79ab2e\":{\"defs\":[{\"extends\":null,\"module\":null,\"name\":\"ReactiveHTML1\",\"overrides\":[],\"properties\":[]},{\"extends\":null,\"module\":null,\"name\":\"FlexBox1\",\"overrides\":[],\"properties\":[{\"default\":\"flex-start\",\"kind\":null,\"name\":\"align_content\"},{\"default\":\"flex-start\",\"kind\":null,\"name\":\"align_items\"},{\"default\":\"row\",\"kind\":null,\"name\":\"flex_direction\"},{\"default\":\"wrap\",\"kind\":null,\"name\":\"flex_wrap\"},{\"default\":\"flex-start\",\"kind\":null,\"name\":\"justify_content\"}]},{\"extends\":null,\"module\":null,\"name\":\"GridStack1\",\"overrides\":[],\"properties\":[{\"default\":\"warn\",\"kind\":null,\"name\":\"mode\"},{\"default\":null,\"kind\":null,\"name\":\"ncols\"},{\"default\":null,\"kind\":null,\"name\":\"nrows\"},{\"default\":true,\"kind\":null,\"name\":\"allow_resize\"},{\"default\":true,\"kind\":null,\"name\":\"allow_drag\"},{\"default\":[],\"kind\":null,\"name\":\"state\"}]},{\"extends\":null,\"module\":null,\"name\":\"click1\",\"overrides\":[],\"properties\":[{\"default\":\"\",\"kind\":null,\"name\":\"terminal_output\"},{\"default\":\"\",\"kind\":null,\"name\":\"debug_name\"},{\"default\":0,\"kind\":null,\"name\":\"clears\"}]},{\"extends\":null,\"module\":null,\"name\":\"NotificationAreaBase1\",\"overrides\":[],\"properties\":[{\"default\":\"bottom-right\",\"kind\":null,\"name\":\"position\"},{\"default\":0,\"kind\":null,\"name\":\"_clear\"}]},{\"extends\":null,\"module\":null,\"name\":\"NotificationArea1\",\"overrides\":[],\"properties\":[{\"default\":[],\"kind\":null,\"name\":\"notifications\"},{\"default\":\"bottom-right\",\"kind\":null,\"name\":\"position\"},{\"default\":0,\"kind\":null,\"name\":\"_clear\"},{\"default\":[{\"background\":\"#ffc107\",\"icon\":{\"className\":\"fas fa-exclamation-triangle\",\"color\":\"white\",\"tagName\":\"i\"},\"type\":\"warning\"},{\"background\":\"#007bff\",\"icon\":{\"className\":\"fas fa-info-circle\",\"color\":\"white\",\"tagName\":\"i\"},\"type\":\"info\"}],\"kind\":null,\"name\":\"types\"}]},{\"extends\":null,\"module\":null,\"name\":\"Notification\",\"overrides\":[],\"properties\":[{\"default\":null,\"kind\":null,\"name\":\"background\"},{\"default\":3000,\"kind\":null,\"name\":\"duration\"},{\"default\":null,\"kind\":null,\"name\":\"icon\"},{\"default\":\"\",\"kind\":null,\"name\":\"message\"},{\"default\":null,\"kind\":null,\"name\":\"notification_type\"},{\"default\":false,\"kind\":null,\"name\":\"_destroyed\"}]},{\"extends\":null,\"module\":null,\"name\":\"TemplateActions1\",\"overrides\":[],\"properties\":[{\"default\":0,\"kind\":null,\"name\":\"open_modal\"},{\"default\":0,\"kind\":null,\"name\":\"close_modal\"}]},{\"extends\":null,\"module\":null,\"name\":\"MaterialTemplateActions1\",\"overrides\":[],\"properties\":[{\"default\":0,\"kind\":null,\"name\":\"open_modal\"},{\"default\":0,\"kind\":null,\"name\":\"close_modal\"}]}],\"roots\":{\"references\":[{\"attributes\":{\"children\":[{\"id\":\"1617\"},{\"id\":\"1619\"}],\"margin\":[0,0,0,0],\"name\":\"Row03199\"},\"id\":\"1616\",\"type\":\"Row\"},{\"attributes\":{\"margin\":[5,5,5,5],\"name\":\"HSpacer03198\",\"sizing_mode\":\"stretch_width\"},\"id\":\"1619\",\"type\":\"Spacer\"},{\"attributes\":{\"end\":10,\"margin\":[5,10,5,10],\"start\":0,\"title\":\"Level Slider\",\"value\":0},\"id\":\"1618\",\"type\":\"Slider\"},{\"attributes\":{\"children\":[{\"id\":\"1621\"}],\"margin\":[0,0,0,0],\"name\":\"Row03183\"},\"id\":\"1620\",\"type\":\"Row\"},{\"attributes\":{\"children\":[{\"id\":\"1615\"}],\"margin\":[0,0,0,0],\"name\":\"Row03201\"},\"id\":\"1614\",\"type\":\"Row\"},{\"attributes\":{\"client_comm_id\":\"9907324b733a4261b28e38bddf79a4e7\",\"comm_id\":\"6898e2794faa458eaab0a587f1479c0b\",\"plot_id\":\"1614\"},\"id\":\"1622\",\"type\":\"panel.models.comm_manager.CommManager\"},{\"attributes\":{\"children\":[{\"id\":\"1618\"}],\"margin\":[0,0,0,0],\"name\":\"Column03178\"},\"id\":\"1617\",\"type\":\"Column\"},{\"attributes\":{\"children\":[{\"id\":\"1616\"},{\"id\":\"1620\"}],\"margin\":[0,0,0,0],\"name\":\"Column03200\"},\"id\":\"1615\",\"type\":\"Column\"},{\"attributes\":{\"margin\":[5,5,5,5],\"name\":\"DataFrame03196\",\"text\":\"&lt;table border=&quot;0&quot; class=&quot;dataframe panel-df&quot;&gt;\\n  &lt;thead&gt;\\n    &lt;tr style=&quot;text-align: right;&quot;&gt;\\n      &lt;th&gt;&lt;/th&gt;\\n      &lt;th&gt;PainLevel&lt;/th&gt;\\n      &lt;th&gt;Frequency&lt;/th&gt;\\n    &lt;/tr&gt;\\n  &lt;/thead&gt;\\n  &lt;tbody&gt;\\n    &lt;tr&gt;\\n      &lt;th&gt;0&lt;/th&gt;\\n      &lt;td&gt;2&lt;/td&gt;\\n      &lt;td&gt;5344&lt;/td&gt;\\n    &lt;/tr&gt;\\n    &lt;tr&gt;\\n      &lt;th&gt;1&lt;/th&gt;\\n      &lt;td&gt;1&lt;/td&gt;\\n      &lt;td&gt;4824&lt;/td&gt;\\n    &lt;/tr&gt;\\n    &lt;tr&gt;\\n      &lt;th&gt;3&lt;/th&gt;\\n      &lt;td&gt;3&lt;/td&gt;\\n      &lt;td&gt;3257&lt;/td&gt;\\n    &lt;/tr&gt;\\n    &lt;tr&gt;\\n      &lt;th&gt;4&lt;/th&gt;\\n      &lt;td&gt;5&lt;/td&gt;\\n      &lt;td&gt;2198&lt;/td&gt;\\n    &lt;/tr&gt;\\n    &lt;tr&gt;\\n      &lt;th&gt;5&lt;/th&gt;\\n      &lt;td&gt;7&lt;/td&gt;\\n      &lt;td&gt;2143&lt;/td&gt;\\n    &lt;/tr&gt;\\n    &lt;tr&gt;\\n      &lt;th&gt;6&lt;/th&gt;\\n      &lt;td&gt;6&lt;/td&gt;\\n      &lt;td&gt;2113&lt;/td&gt;\\n    &lt;/tr&gt;\\n    &lt;tr&gt;\\n      &lt;th&gt;7&lt;/th&gt;\\n      &lt;td&gt;4&lt;/td&gt;\\n      &lt;td&gt;1817&lt;/td&gt;\\n    &lt;/tr&gt;\\n    &lt;tr&gt;\\n      &lt;th&gt;8&lt;/th&gt;\\n      &lt;td&gt;8&lt;/td&gt;\\n      &lt;td&gt;942&lt;/td&gt;\\n    &lt;/tr&gt;\\n    &lt;tr&gt;\\n      &lt;th&gt;9&lt;/th&gt;\\n      &lt;td&gt;9&lt;/td&gt;\\n      &lt;td&gt;346&lt;/td&gt;\\n    &lt;/tr&gt;\\n    &lt;tr&gt;\\n      &lt;th&gt;10&lt;/th&gt;\\n      &lt;td&gt;10&lt;/td&gt;\\n      &lt;td&gt;153&lt;/td&gt;\\n    &lt;/tr&gt;\\n  &lt;/tbody&gt;\\n&lt;/table&gt;\"},\"id\":\"1621\",\"type\":\"panel.models.markup.HTML\"}],\"root_ids\":[\"1614\",\"1622\"]},\"title\":\"Bokeh Application\",\"version\":\"2.4.3\"}};\n",
       "    var render_items = [{\"docid\":\"90054ac4-f092-40fd-a3b3-e8f81c79ab2e\",\"root_ids\":[\"1614\"],\"roots\":{\"1614\":\"5609578a-fa9e-43d3-a82b-a735a664e106\"}}];\n",
       "    root.Bokeh.embed.embed_items_notebook(docs_json, render_items);\n",
       "  }\n",
       "  if (root.Bokeh !== undefined && root.Bokeh.Panel !== undefined && ( root['Tabulator'] !== undefined) && ( root['Tabulator'] !== undefined) && ( root['Tabulator'] !== undefined)) {\n",
       "    embed_document(root);\n",
       "  } else {\n",
       "    var attempts = 0;\n",
       "    var timer = setInterval(function(root) {\n",
       "      if (root.Bokeh !== undefined && root.Bokeh.Panel !== undefined && (root['Tabulator'] !== undefined) && (root['Tabulator'] !== undefined) && (root['Tabulator'] !== undefined)) {\n",
       "        clearInterval(timer);\n",
       "        embed_document(root);\n",
       "      } else if (document.readyState == \"complete\") {\n",
       "        attempts++;\n",
       "        if (attempts > 200) {\n",
       "          clearInterval(timer);\n",
       "          console.log(\"Bokeh: ERROR: Unable to run BokehJS code because BokehJS library is missing\");\n",
       "        }\n",
       "      }\n",
       "    }, 25, root)\n",
       "  }\n",
       "})(window);</script>"
      ],
      "text/plain": [
       "<hvplot.interactive.Interactive at 0x1e09ff691c8>"
      ]
     },
     "execution_count": 37,
     "metadata": {
      "application/vnd.holoviews_exec.v0+json": {
       "id": "1614"
      }
     },
     "output_type": "execute_result"
    }
   ],
   "source": [
    "aa = idf[idf['PainLevel'] > level_slider].head(20)\n",
    "aa"
   ]
  },
  {
   "cell_type": "code",
   "execution_count": 38,
   "id": "aae863b1",
   "metadata": {},
   "outputs": [],
   "source": [
    "hv_plot_level = level_cnt_df.hvplot.bar(x = 'PainLevel', y = 'Frequency')\n",
    "#show(hv.render(hv_plot_level))\n",
    "#hvplot.show(hv_plot_level)"
   ]
  },
  {
   "cell_type": "code",
   "execution_count": 39,
   "id": "cebaed41",
   "metadata": {},
   "outputs": [
    {
     "data": {},
     "metadata": {},
     "output_type": "display_data"
    },
    {
     "data": {},
     "metadata": {},
     "output_type": "display_data"
    },
    {
     "data": {
      "application/vnd.holoviews_exec.v0+json": "",
      "text/html": [
       "<div id='1623'>\n",
       "  <div class=\"bk-root\" id=\"93ee9abf-6f08-43b5-af0b-a1921b2cf27f\" data-root-id=\"1623\"></div>\n",
       "</div>\n",
       "<script type=\"application/javascript\">(function(root) {\n",
       "  function embed_document(root) {\n",
       "    var docs_json = {\"ae9c055b-1423-46ed-9c5e-57e458303fcb\":{\"defs\":[{\"extends\":null,\"module\":null,\"name\":\"ReactiveHTML1\",\"overrides\":[],\"properties\":[]},{\"extends\":null,\"module\":null,\"name\":\"FlexBox1\",\"overrides\":[],\"properties\":[{\"default\":\"flex-start\",\"kind\":null,\"name\":\"align_content\"},{\"default\":\"flex-start\",\"kind\":null,\"name\":\"align_items\"},{\"default\":\"row\",\"kind\":null,\"name\":\"flex_direction\"},{\"default\":\"wrap\",\"kind\":null,\"name\":\"flex_wrap\"},{\"default\":\"flex-start\",\"kind\":null,\"name\":\"justify_content\"}]},{\"extends\":null,\"module\":null,\"name\":\"GridStack1\",\"overrides\":[],\"properties\":[{\"default\":\"warn\",\"kind\":null,\"name\":\"mode\"},{\"default\":null,\"kind\":null,\"name\":\"ncols\"},{\"default\":null,\"kind\":null,\"name\":\"nrows\"},{\"default\":true,\"kind\":null,\"name\":\"allow_resize\"},{\"default\":true,\"kind\":null,\"name\":\"allow_drag\"},{\"default\":[],\"kind\":null,\"name\":\"state\"}]},{\"extends\":null,\"module\":null,\"name\":\"click1\",\"overrides\":[],\"properties\":[{\"default\":\"\",\"kind\":null,\"name\":\"terminal_output\"},{\"default\":\"\",\"kind\":null,\"name\":\"debug_name\"},{\"default\":0,\"kind\":null,\"name\":\"clears\"}]},{\"extends\":null,\"module\":null,\"name\":\"NotificationAreaBase1\",\"overrides\":[],\"properties\":[{\"default\":\"bottom-right\",\"kind\":null,\"name\":\"position\"},{\"default\":0,\"kind\":null,\"name\":\"_clear\"}]},{\"extends\":null,\"module\":null,\"name\":\"NotificationArea1\",\"overrides\":[],\"properties\":[{\"default\":[],\"kind\":null,\"name\":\"notifications\"},{\"default\":\"bottom-right\",\"kind\":null,\"name\":\"position\"},{\"default\":0,\"kind\":null,\"name\":\"_clear\"},{\"default\":[{\"background\":\"#ffc107\",\"icon\":{\"className\":\"fas fa-exclamation-triangle\",\"color\":\"white\",\"tagName\":\"i\"},\"type\":\"warning\"},{\"background\":\"#007bff\",\"icon\":{\"className\":\"fas fa-info-circle\",\"color\":\"white\",\"tagName\":\"i\"},\"type\":\"info\"}],\"kind\":null,\"name\":\"types\"}]},{\"extends\":null,\"module\":null,\"name\":\"Notification\",\"overrides\":[],\"properties\":[{\"default\":null,\"kind\":null,\"name\":\"background\"},{\"default\":3000,\"kind\":null,\"name\":\"duration\"},{\"default\":null,\"kind\":null,\"name\":\"icon\"},{\"default\":\"\",\"kind\":null,\"name\":\"message\"},{\"default\":null,\"kind\":null,\"name\":\"notification_type\"},{\"default\":false,\"kind\":null,\"name\":\"_destroyed\"}]},{\"extends\":null,\"module\":null,\"name\":\"TemplateActions1\",\"overrides\":[],\"properties\":[{\"default\":0,\"kind\":null,\"name\":\"open_modal\"},{\"default\":0,\"kind\":null,\"name\":\"close_modal\"}]},{\"extends\":null,\"module\":null,\"name\":\"MaterialTemplateActions1\",\"overrides\":[],\"properties\":[{\"default\":0,\"kind\":null,\"name\":\"open_modal\"},{\"default\":0,\"kind\":null,\"name\":\"close_modal\"}]}],\"roots\":{\"references\":[{\"attributes\":{\"fill_color\":{\"value\":\"#30a2da\"},\"hatch_color\":{\"value\":\"#30a2da\"},\"top\":{\"field\":\"Frequency\"},\"width\":{\"value\":0.8},\"x\":{\"field\":\"PainLevel\"}},\"id\":\"1659\",\"type\":\"VBar\"},{\"attributes\":{\"coordinates\":null,\"data_source\":{\"id\":\"1656\"},\"glyph\":{\"id\":\"1659\"},\"group\":null,\"hover_glyph\":null,\"muted_glyph\":{\"id\":\"1661\"},\"nonselection_glyph\":{\"id\":\"1660\"},\"selection_glyph\":{\"id\":\"1664\"},\"view\":{\"id\":\"1663\"}},\"id\":\"1662\",\"type\":\"GlyphRenderer\"},{\"attributes\":{},\"id\":\"1670\",\"type\":\"AllLabels\"},{\"attributes\":{\"axis\":{\"id\":\"1636\"},\"coordinates\":null,\"grid_line_color\":null,\"group\":null,\"ticker\":null},\"id\":\"1638\",\"type\":\"Grid\"},{\"attributes\":{\"fill_alpha\":{\"value\":0.2},\"fill_color\":{\"value\":\"#30a2da\"},\"hatch_alpha\":{\"value\":0.2},\"hatch_color\":{\"value\":\"#30a2da\"},\"line_alpha\":{\"value\":0.2},\"top\":{\"field\":\"Frequency\"},\"width\":{\"value\":0.8},\"x\":{\"field\":\"PainLevel\"}},\"id\":\"1661\",\"type\":\"VBar\"},{\"attributes\":{\"fill_alpha\":{\"value\":0.1},\"fill_color\":{\"value\":\"#30a2da\"},\"hatch_alpha\":{\"value\":0.1},\"hatch_color\":{\"value\":\"#30a2da\"},\"line_alpha\":{\"value\":0.1},\"top\":{\"field\":\"Frequency\"},\"width\":{\"value\":0.8},\"x\":{\"field\":\"PainLevel\"}},\"id\":\"1660\",\"type\":\"VBar\"},{\"attributes\":{},\"id\":\"1643\",\"type\":\"SaveTool\"},{\"attributes\":{},\"id\":\"1644\",\"type\":\"PanTool\"},{\"attributes\":{},\"id\":\"1647\",\"type\":\"ResetTool\"},{\"attributes\":{},\"id\":\"1645\",\"type\":\"WheelZoomTool\"},{\"attributes\":{},\"id\":\"1667\",\"type\":\"AllLabels\"},{\"attributes\":{\"source\":{\"id\":\"1656\"}},\"id\":\"1663\",\"type\":\"CDSView\"},{\"attributes\":{\"overlay\":{\"id\":\"1648\"}},\"id\":\"1646\",\"type\":\"BoxZoomTool\"},{\"attributes\":{\"tools\":[{\"id\":\"1626\"},{\"id\":\"1643\"},{\"id\":\"1644\"},{\"id\":\"1645\"},{\"id\":\"1646\"},{\"id\":\"1647\"}]},\"id\":\"1649\",\"type\":\"Toolbar\"},{\"attributes\":{\"bottom\":{\"value\":0},\"fill_alpha\":{\"value\":1.0},\"fill_color\":{\"value\":\"#30a2da\"},\"hatch_alpha\":{\"value\":1.0},\"hatch_color\":{\"value\":\"#30a2da\"},\"hatch_scale\":{\"value\":12.0},\"hatch_weight\":{\"value\":1.0},\"line_alpha\":{\"value\":1.0},\"line_cap\":{\"value\":\"butt\"},\"line_color\":{\"value\":\"black\"},\"line_dash\":{\"value\":[]},\"line_dash_offset\":{\"value\":0},\"line_join\":{\"value\":\"bevel\"},\"line_width\":{\"value\":1},\"top\":{\"field\":\"Frequency\"},\"width\":{\"value\":0.8},\"x\":{\"field\":\"PainLevel\"}},\"id\":\"1664\",\"type\":\"VBar\"},{\"attributes\":{},\"id\":\"1669\",\"type\":\"BasicTickFormatter\"},{\"attributes\":{},\"id\":\"1657\",\"type\":\"Selection\"},{\"attributes\":{\"coordinates\":null,\"group\":null,\"text_color\":\"black\",\"text_font_size\":\"12pt\"},\"id\":\"1628\",\"type\":\"Title\"},{\"attributes\":{},\"id\":\"1632\",\"type\":\"CategoricalScale\"},{\"attributes\":{\"axis_label\":\"PainLevel\",\"coordinates\":null,\"formatter\":{\"id\":\"1666\"},\"group\":null,\"major_label_policy\":{\"id\":\"1667\"},\"ticker\":{\"id\":\"1637\"}},\"id\":\"1636\",\"type\":\"CategoricalAxis\"},{\"attributes\":{},\"id\":\"1678\",\"type\":\"UnionRenderers\"},{\"attributes\":{},\"id\":\"1634\",\"type\":\"LinearScale\"},{\"attributes\":{},\"id\":\"1640\",\"type\":\"BasicTicker\"},{\"attributes\":{},\"id\":\"1637\",\"type\":\"CategoricalTicker\"},{\"attributes\":{\"client_comm_id\":\"5f35e3844930427bbfa12baaa8a886fa\",\"comm_id\":\"7aebf29106b5491499dd3f1cc43b2c76\",\"plot_id\":\"1623\"},\"id\":\"1711\",\"type\":\"panel.models.comm_manager.CommManager\"},{\"attributes\":{\"below\":[{\"id\":\"1636\"}],\"center\":[{\"id\":\"1638\"},{\"id\":\"1642\"}],\"height\":300,\"left\":[{\"id\":\"1639\"}],\"margin\":[5,5,5,5],\"min_border_bottom\":10,\"min_border_left\":10,\"min_border_right\":10,\"min_border_top\":10,\"renderers\":[{\"id\":\"1662\"}],\"sizing_mode\":\"fixed\",\"title\":{\"id\":\"1628\"},\"toolbar\":{\"id\":\"1649\"},\"width\":700,\"x_range\":{\"id\":\"1624\"},\"x_scale\":{\"id\":\"1632\"},\"y_range\":{\"id\":\"1625\"},\"y_scale\":{\"id\":\"1634\"}},\"id\":\"1627\",\"subtype\":\"Figure\",\"type\":\"Plot\"},{\"attributes\":{\"axis_label\":\"Frequency\",\"coordinates\":null,\"formatter\":{\"id\":\"1669\"},\"group\":null,\"major_label_policy\":{\"id\":\"1670\"},\"ticker\":{\"id\":\"1640\"}},\"id\":\"1639\",\"type\":\"LinearAxis\"},{\"attributes\":{\"bottom_units\":\"screen\",\"coordinates\":null,\"fill_alpha\":0.5,\"fill_color\":\"lightgrey\",\"group\":null,\"left_units\":\"screen\",\"level\":\"overlay\",\"line_alpha\":1.0,\"line_color\":\"black\",\"line_dash\":[4,4],\"line_width\":2,\"right_units\":\"screen\",\"syncable\":false,\"top_units\":\"screen\"},\"id\":\"1648\",\"type\":\"BoxAnnotation\"},{\"attributes\":{\"axis\":{\"id\":\"1639\"},\"coordinates\":null,\"dimension\":1,\"grid_line_color\":null,\"group\":null,\"ticker\":null},\"id\":\"1642\",\"type\":\"Grid\"},{\"attributes\":{\"data\":{\"Frequency\":[5344,4824,4251,3257,2198,2143,2113,1817,942,346,153],\"PainLevel\":[\"2\",\"1\",\"0\",\"3\",\"5\",\"7\",\"6\",\"4\",\"8\",\"9\",\"10\"]},\"selected\":{\"id\":\"1657\"},\"selection_policy\":{\"id\":\"1678\"}},\"id\":\"1656\",\"type\":\"ColumnDataSource\"},{\"attributes\":{\"end\":5863.1,\"reset_end\":5863.1,\"reset_start\":0.0,\"tags\":[[[\"Frequency\",\"Frequency\",null]]]},\"id\":\"1625\",\"type\":\"Range1d\"},{\"attributes\":{\"factors\":[\"2\",\"1\",\"0\",\"3\",\"5\",\"7\",\"6\",\"4\",\"8\",\"9\",\"10\"],\"tags\":[[[\"PainLevel\",\"PainLevel\",null]]]},\"id\":\"1624\",\"type\":\"FactorRange\"},{\"attributes\":{\"callback\":null,\"renderers\":[{\"id\":\"1662\"}],\"tags\":[\"hv_created\"],\"tooltips\":[[\"PainLevel\",\"@{PainLevel}\"],[\"Frequency\",\"@{Frequency}\"]]},\"id\":\"1626\",\"type\":\"HoverTool\"},{\"attributes\":{\"children\":[{\"id\":\"1627\"}],\"margin\":[0,0,0,0],\"name\":\"Row03285\"},\"id\":\"1623\",\"type\":\"Row\"},{\"attributes\":{},\"id\":\"1666\",\"type\":\"CategoricalTickFormatter\"}],\"root_ids\":[\"1623\",\"1711\"]},\"title\":\"Bokeh Application\",\"version\":\"2.4.3\"}};\n",
       "    var render_items = [{\"docid\":\"ae9c055b-1423-46ed-9c5e-57e458303fcb\",\"root_ids\":[\"1623\"],\"roots\":{\"1623\":\"93ee9abf-6f08-43b5-af0b-a1921b2cf27f\"}}];\n",
       "    root.Bokeh.embed.embed_items_notebook(docs_json, render_items);\n",
       "  }\n",
       "  if (root.Bokeh !== undefined && root.Bokeh.Panel !== undefined && ( root['Tabulator'] !== undefined) && ( root['Tabulator'] !== undefined) && ( root['Tabulator'] !== undefined)) {\n",
       "    embed_document(root);\n",
       "  } else {\n",
       "    var attempts = 0;\n",
       "    var timer = setInterval(function(root) {\n",
       "      if (root.Bokeh !== undefined && root.Bokeh.Panel !== undefined && (root['Tabulator'] !== undefined) && (root['Tabulator'] !== undefined) && (root['Tabulator'] !== undefined)) {\n",
       "        clearInterval(timer);\n",
       "        embed_document(root);\n",
       "      } else if (document.readyState == \"complete\") {\n",
       "        attempts++;\n",
       "        if (attempts > 200) {\n",
       "          clearInterval(timer);\n",
       "          console.log(\"Bokeh: ERROR: Unable to run BokehJS code because BokehJS library is missing\");\n",
       "        }\n",
       "      }\n",
       "    }, 25, root)\n",
       "  }\n",
       "})(window);</script>"
      ],
      "text/plain": [
       "HoloViews(Bars)"
      ]
     },
     "execution_count": 39,
     "metadata": {
      "application/vnd.holoviews_exec.v0+json": {
       "id": "1623"
      }
     },
     "output_type": "execute_result"
    }
   ],
   "source": [
    "pane = pn.panel(hv_plot_level)\n",
    "pane\n"
   ]
  },
  {
   "cell_type": "code",
   "execution_count": 40,
   "id": "8a45f862-1997-478f-919d-7bcd4f32eb1d",
   "metadata": {},
   "outputs": [],
   "source": [
    "aa=idf[idf['PainLevel'] > level_slider].plot(y='Frequency', kind = 'bar')"
   ]
  },
  {
   "cell_type": "code",
   "execution_count": 41,
   "id": "f4c056f3-8524-45fe-a59f-a87ee987306c",
   "metadata": {},
   "outputs": [
    {
     "data": {},
     "metadata": {},
     "output_type": "display_data"
    },
    {
     "data": {
      "application/vnd.holoviews_exec.v0+json": "",
      "text/html": [
       "<div id='1762'>\n",
       "  <div class=\"bk-root\" id=\"c4888910-045e-4dac-b76a-97f68ce41094\" data-root-id=\"1762\"></div>\n",
       "</div>\n",
       "<script type=\"application/javascript\">(function(root) {\n",
       "  function embed_document(root) {\n",
       "    var docs_json = {\"b7a8c86e-88c6-40b3-8eea-759f5a0191fa\":{\"defs\":[{\"extends\":null,\"module\":null,\"name\":\"ReactiveHTML1\",\"overrides\":[],\"properties\":[]},{\"extends\":null,\"module\":null,\"name\":\"FlexBox1\",\"overrides\":[],\"properties\":[{\"default\":\"flex-start\",\"kind\":null,\"name\":\"align_content\"},{\"default\":\"flex-start\",\"kind\":null,\"name\":\"align_items\"},{\"default\":\"row\",\"kind\":null,\"name\":\"flex_direction\"},{\"default\":\"wrap\",\"kind\":null,\"name\":\"flex_wrap\"},{\"default\":\"flex-start\",\"kind\":null,\"name\":\"justify_content\"}]},{\"extends\":null,\"module\":null,\"name\":\"GridStack1\",\"overrides\":[],\"properties\":[{\"default\":\"warn\",\"kind\":null,\"name\":\"mode\"},{\"default\":null,\"kind\":null,\"name\":\"ncols\"},{\"default\":null,\"kind\":null,\"name\":\"nrows\"},{\"default\":true,\"kind\":null,\"name\":\"allow_resize\"},{\"default\":true,\"kind\":null,\"name\":\"allow_drag\"},{\"default\":[],\"kind\":null,\"name\":\"state\"}]},{\"extends\":null,\"module\":null,\"name\":\"click1\",\"overrides\":[],\"properties\":[{\"default\":\"\",\"kind\":null,\"name\":\"terminal_output\"},{\"default\":\"\",\"kind\":null,\"name\":\"debug_name\"},{\"default\":0,\"kind\":null,\"name\":\"clears\"}]},{\"extends\":null,\"module\":null,\"name\":\"NotificationAreaBase1\",\"overrides\":[],\"properties\":[{\"default\":\"bottom-right\",\"kind\":null,\"name\":\"position\"},{\"default\":0,\"kind\":null,\"name\":\"_clear\"}]},{\"extends\":null,\"module\":null,\"name\":\"NotificationArea1\",\"overrides\":[],\"properties\":[{\"default\":[],\"kind\":null,\"name\":\"notifications\"},{\"default\":\"bottom-right\",\"kind\":null,\"name\":\"position\"},{\"default\":0,\"kind\":null,\"name\":\"_clear\"},{\"default\":[{\"background\":\"#ffc107\",\"icon\":{\"className\":\"fas fa-exclamation-triangle\",\"color\":\"white\",\"tagName\":\"i\"},\"type\":\"warning\"},{\"background\":\"#007bff\",\"icon\":{\"className\":\"fas fa-info-circle\",\"color\":\"white\",\"tagName\":\"i\"},\"type\":\"info\"}],\"kind\":null,\"name\":\"types\"}]},{\"extends\":null,\"module\":null,\"name\":\"Notification\",\"overrides\":[],\"properties\":[{\"default\":null,\"kind\":null,\"name\":\"background\"},{\"default\":3000,\"kind\":null,\"name\":\"duration\"},{\"default\":null,\"kind\":null,\"name\":\"icon\"},{\"default\":\"\",\"kind\":null,\"name\":\"message\"},{\"default\":null,\"kind\":null,\"name\":\"notification_type\"},{\"default\":false,\"kind\":null,\"name\":\"_destroyed\"}]},{\"extends\":null,\"module\":null,\"name\":\"TemplateActions1\",\"overrides\":[],\"properties\":[{\"default\":0,\"kind\":null,\"name\":\"open_modal\"},{\"default\":0,\"kind\":null,\"name\":\"close_modal\"}]},{\"extends\":null,\"module\":null,\"name\":\"MaterialTemplateActions1\",\"overrides\":[],\"properties\":[{\"default\":0,\"kind\":null,\"name\":\"open_modal\"},{\"default\":0,\"kind\":null,\"name\":\"close_modal\"}]}],\"roots\":{\"references\":[{\"attributes\":{\"margin\":[5,5,5,5],\"name\":\"HSpacer03423\",\"sizing_mode\":\"stretch_width\"},\"id\":\"1768\",\"type\":\"Spacer\"},{\"attributes\":{\"children\":[{\"id\":\"1765\"},{\"id\":\"1769\"}],\"margin\":[0,0,0,0],\"name\":\"Column03425\"},\"id\":\"1764\",\"type\":\"Column\"},{\"attributes\":{\"end\":10,\"margin\":[5,10,5,10],\"start\":0,\"title\":\"Level Slider\",\"value\":0},\"id\":\"1767\",\"type\":\"Slider\"},{\"attributes\":{\"children\":[{\"id\":\"1764\"}],\"margin\":[5,5,5,5],\"name\":\"Row03426\"},\"id\":\"1763\",\"type\":\"Row\"},{\"attributes\":{\"children\":[{\"id\":\"1770\"}],\"margin\":[0,0,0,0],\"name\":\"Row03408\"},\"id\":\"1769\",\"type\":\"Row\"},{\"attributes\":{\"client_comm_id\":\"bde00cb58b1c4c3aa60fc1964cf7129d\",\"comm_id\":\"f419f99e417b49a89ec4ec77a4ba6ec2\",\"plot_id\":\"1762\"},\"id\":\"1771\",\"type\":\"panel.models.comm_manager.CommManager\"},{\"attributes\":{\"children\":[{\"id\":\"1767\"}],\"margin\":[0,0,0,0],\"name\":\"Column03403\"},\"id\":\"1766\",\"type\":\"Column\"},{\"attributes\":{\"children\":[{\"id\":\"1763\"}],\"margin\":[0,0,0,0],\"name\":\"Row03402\"},\"id\":\"1762\",\"type\":\"Row\"},{\"attributes\":{\"height\":576,\"margin\":[5,5,5,5],\"name\":\"ParamFunction03404\",\"text\":\"&lt;img src=&quot;data:image/png;base64,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&quot; width=&quot;864px&quot; height=&quot;576px&quot; alt=&quot;&quot;&gt;&lt;/img&gt;\",\"width\":864},\"id\":\"1770\",\"type\":\"panel.models.markup.HTML\"},{\"attributes\":{\"children\":[{\"id\":\"1766\"},{\"id\":\"1768\"}],\"margin\":[0,0,0,0],\"name\":\"Row03424\"},\"id\":\"1765\",\"type\":\"Row\"}],\"root_ids\":[\"1762\",\"1771\"]},\"title\":\"Bokeh Application\",\"version\":\"2.4.3\"}};\n",
       "    var render_items = [{\"docid\":\"b7a8c86e-88c6-40b3-8eea-759f5a0191fa\",\"root_ids\":[\"1762\"],\"roots\":{\"1762\":\"c4888910-045e-4dac-b76a-97f68ce41094\"}}];\n",
       "    root.Bokeh.embed.embed_items_notebook(docs_json, render_items);\n",
       "  }\n",
       "  if (root.Bokeh !== undefined && root.Bokeh.Panel !== undefined && ( root['Tabulator'] !== undefined) && ( root['Tabulator'] !== undefined) && ( root['Tabulator'] !== undefined)) {\n",
       "    embed_document(root);\n",
       "  } else {\n",
       "    var attempts = 0;\n",
       "    var timer = setInterval(function(root) {\n",
       "      if (root.Bokeh !== undefined && root.Bokeh.Panel !== undefined && (root['Tabulator'] !== undefined) && (root['Tabulator'] !== undefined) && (root['Tabulator'] !== undefined)) {\n",
       "        clearInterval(timer);\n",
       "        embed_document(root);\n",
       "      } else if (document.readyState == \"complete\") {\n",
       "        attempts++;\n",
       "        if (attempts > 200) {\n",
       "          clearInterval(timer);\n",
       "          console.log(\"Bokeh: ERROR: Unable to run BokehJS code because BokehJS library is missing\");\n",
       "        }\n",
       "      }\n",
       "    }, 25, root)\n",
       "  }\n",
       "})(window);</script>"
      ],
      "text/plain": [
       "Interactive(Interactive)"
      ]
     },
     "execution_count": 41,
     "metadata": {
      "application/vnd.holoviews_exec.v0+json": {
       "id": "1762"
      }
     },
     "output_type": "execute_result"
    }
   ],
   "source": [
    "pane = pn.panel(aa)\n",
    "pane"
   ]
  },
  {
   "cell_type": "code",
   "execution_count": 42,
   "id": "36772aad",
   "metadata": {},
   "outputs": [
    {
     "name": "stderr",
     "output_type": "stream",
     "text": [
      "WARNING:param.FastListTemplate03480: Setting non-parameter attribute header_backfround=#88d8b0 using a mechanism intended only for parameters\n"
     ]
    }
   ],
   "source": [
    "template = pn.template.FastListTemplate(\n",
    "    title = 'Demo Temp',\n",
    "    sidebar = [pn.pane.Markdown(\"#Sample Demo\"),\n",
    "               level_slider],\n",
    "    main=[pn.Row(pn.Column(aa.panel(width=700), margin=(0,25)))],\n",
    "    accent_base_color=\"#88d8b0\",\n",
    "    header_backfround=\"#88d8b0\",\n",
    ")\n",
    "\n",
    "template.servable();             "
   ]
  },
  {
   "cell_type": "code",
   "execution_count": null,
   "id": "9478c3fa-e110-40f4-b981-75f04543d8d4",
   "metadata": {},
   "outputs": [],
   "source": []
  }
 ],
 "metadata": {
  "kernelspec": {
   "display_name": "Python 3 (ipykernel)",
   "language": "python",
   "name": "python3"
  },
  "language_info": {
   "codemirror_mode": {
    "name": "ipython",
    "version": 3
   },
   "file_extension": ".py",
   "mimetype": "text/x-python",
   "name": "python",
   "nbconvert_exporter": "python",
   "pygments_lexer": "ipython3",
   "version": "3.7.7"
  }
 },
 "nbformat": 4,
 "nbformat_minor": 5
}
