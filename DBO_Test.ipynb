{
 "cells": [
  {
   "cell_type": "code",
   "execution_count": 34,
   "id": "bdc847bd",
   "metadata": {},
   "outputs": [],
   "source": [
    "import pandas as pd\n",
    "import hvplot.pandas\n",
    "import panel as pn\n",
    "import holoviews as hv\n",
    "pn.extension('tabulator')\n",
    "hv.extension('bokeh')\n",
    "\n",
    "# going to use show() to open plot in browser\n",
    "from bokeh.plotting import show\n"
   ]
  },
  {
   "cell_type": "code",
   "execution_count": 35,
   "id": "59978da9-ec91-4fab-9f8a-a3c186a7af90",
   "metadata": {},
   "outputs": [
    {
     "data": {
      "text/html": [
       "<div>\n",
       "<style scoped>\n",
       "    .dataframe tbody tr th:only-of-type {\n",
       "        vertical-align: middle;\n",
       "    }\n",
       "\n",
       "    .dataframe tbody tr th {\n",
       "        vertical-align: top;\n",
       "    }\n",
       "\n",
       "    .dataframe thead th {\n",
       "        text-align: right;\n",
       "    }\n",
       "</style>\n",
       "<table border=\"1\" class=\"dataframe\">\n",
       "  <thead>\n",
       "    <tr style=\"text-align: right;\">\n",
       "      <th></th>\n",
       "      <th>PainLevel</th>\n",
       "      <th>Frequency</th>\n",
       "    </tr>\n",
       "  </thead>\n",
       "  <tbody>\n",
       "    <tr>\n",
       "      <th>0</th>\n",
       "      <td>2</td>\n",
       "      <td>5344</td>\n",
       "    </tr>\n",
       "    <tr>\n",
       "      <th>1</th>\n",
       "      <td>1</td>\n",
       "      <td>4824</td>\n",
       "    </tr>\n",
       "    <tr>\n",
       "      <th>2</th>\n",
       "      <td>3</td>\n",
       "      <td>3257</td>\n",
       "    </tr>\n",
       "    <tr>\n",
       "      <th>3</th>\n",
       "      <td>5</td>\n",
       "      <td>2198</td>\n",
       "    </tr>\n",
       "    <tr>\n",
       "      <th>4</th>\n",
       "      <td>7</td>\n",
       "      <td>2143</td>\n",
       "    </tr>\n",
       "    <tr>\n",
       "      <th>5</th>\n",
       "      <td>6</td>\n",
       "      <td>2113</td>\n",
       "    </tr>\n",
       "    <tr>\n",
       "      <th>6</th>\n",
       "      <td>4</td>\n",
       "      <td>1817</td>\n",
       "    </tr>\n",
       "    <tr>\n",
       "      <th>7</th>\n",
       "      <td>8</td>\n",
       "      <td>942</td>\n",
       "    </tr>\n",
       "    <tr>\n",
       "      <th>8</th>\n",
       "      <td>9</td>\n",
       "      <td>346</td>\n",
       "    </tr>\n",
       "    <tr>\n",
       "      <th>9</th>\n",
       "      <td>10</td>\n",
       "      <td>153</td>\n",
       "    </tr>\n",
       "  </tbody>\n",
       "</table>\n",
       "</div>"
      ],
      "text/plain": [
       "   PainLevel  Frequency\n",
       "0          2       5344\n",
       "1          1       4824\n",
       "2          3       3257\n",
       "3          5       2198\n",
       "4          7       2143\n",
       "5          6       2113\n",
       "6          4       1817\n",
       "7          8        942\n",
       "8          9        346\n",
       "9         10        153"
      ]
     },
     "execution_count": 35,
     "metadata": {},
     "output_type": "execute_result"
    }
   ],
   "source": [
    "\n",
    "d = {'PainLevel': [2, 1, 3, 5, 7, 6, 4, 8, 9, 10], 'Frequency': [5344, 4824, 3257, 2198, 2143, 2113, 1817, 942, 346, 153]}\n",
    "df = pd.DataFrame(data=d)\n",
    "df"
   ]
  },
  {
   "cell_type": "code",
   "execution_count": 36,
   "id": "db45eef6-763e-4d16-9cff-124a25fa4675",
   "metadata": {},
   "outputs": [
    {
     "data": {},
     "metadata": {},
     "output_type": "display_data"
    },
    {
     "data": {
      "application/vnd.holoviews_exec.v0+json": "",
      "text/html": [
       "<div id='1060'>\n",
       "  <div class=\"bk-root\" id=\"1659eef6-441d-4626-b98f-a179a685824b\" data-root-id=\"1060\"></div>\n",
       "</div>\n",
       "<script type=\"application/javascript\">(function(root) {\n",
       "  function embed_document(root) {\n",
       "    var docs_json = {\"10965e13-cec3-4378-aba6-1c7975ec1f00\":{\"defs\":[{\"extends\":null,\"module\":null,\"name\":\"ReactiveHTML1\",\"overrides\":[],\"properties\":[]},{\"extends\":null,\"module\":null,\"name\":\"FlexBox1\",\"overrides\":[],\"properties\":[{\"default\":\"flex-start\",\"kind\":null,\"name\":\"align_content\"},{\"default\":\"flex-start\",\"kind\":null,\"name\":\"align_items\"},{\"default\":\"row\",\"kind\":null,\"name\":\"flex_direction\"},{\"default\":\"wrap\",\"kind\":null,\"name\":\"flex_wrap\"},{\"default\":\"flex-start\",\"kind\":null,\"name\":\"justify_content\"}]},{\"extends\":null,\"module\":null,\"name\":\"GridStack1\",\"overrides\":[],\"properties\":[{\"default\":\"warn\",\"kind\":null,\"name\":\"mode\"},{\"default\":null,\"kind\":null,\"name\":\"ncols\"},{\"default\":null,\"kind\":null,\"name\":\"nrows\"},{\"default\":true,\"kind\":null,\"name\":\"allow_resize\"},{\"default\":true,\"kind\":null,\"name\":\"allow_drag\"},{\"default\":[],\"kind\":null,\"name\":\"state\"}]},{\"extends\":null,\"module\":null,\"name\":\"click1\",\"overrides\":[],\"properties\":[{\"default\":\"\",\"kind\":null,\"name\":\"terminal_output\"},{\"default\":\"\",\"kind\":null,\"name\":\"debug_name\"},{\"default\":0,\"kind\":null,\"name\":\"clears\"}]},{\"extends\":null,\"module\":null,\"name\":\"NotificationAreaBase1\",\"overrides\":[],\"properties\":[{\"default\":\"bottom-right\",\"kind\":null,\"name\":\"position\"},{\"default\":0,\"kind\":null,\"name\":\"_clear\"}]},{\"extends\":null,\"module\":null,\"name\":\"NotificationArea1\",\"overrides\":[],\"properties\":[{\"default\":[],\"kind\":null,\"name\":\"notifications\"},{\"default\":\"bottom-right\",\"kind\":null,\"name\":\"position\"},{\"default\":0,\"kind\":null,\"name\":\"_clear\"},{\"default\":[{\"background\":\"#ffc107\",\"icon\":{\"className\":\"fas fa-exclamation-triangle\",\"color\":\"white\",\"tagName\":\"i\"},\"type\":\"warning\"},{\"background\":\"#007bff\",\"icon\":{\"className\":\"fas fa-info-circle\",\"color\":\"white\",\"tagName\":\"i\"},\"type\":\"info\"}],\"kind\":null,\"name\":\"types\"}]},{\"extends\":null,\"module\":null,\"name\":\"Notification\",\"overrides\":[],\"properties\":[{\"default\":null,\"kind\":null,\"name\":\"background\"},{\"default\":3000,\"kind\":null,\"name\":\"duration\"},{\"default\":null,\"kind\":null,\"name\":\"icon\"},{\"default\":\"\",\"kind\":null,\"name\":\"message\"},{\"default\":null,\"kind\":null,\"name\":\"notification_type\"},{\"default\":false,\"kind\":null,\"name\":\"_destroyed\"}]},{\"extends\":null,\"module\":null,\"name\":\"TemplateActions1\",\"overrides\":[],\"properties\":[{\"default\":0,\"kind\":null,\"name\":\"open_modal\"},{\"default\":0,\"kind\":null,\"name\":\"close_modal\"}]},{\"extends\":null,\"module\":null,\"name\":\"MaterialTemplateActions1\",\"overrides\":[],\"properties\":[{\"default\":0,\"kind\":null,\"name\":\"open_modal\"},{\"default\":0,\"kind\":null,\"name\":\"close_modal\"}]}],\"roots\":{\"references\":[{\"attributes\":{\"end\":10,\"margin\":[5,10,5,10],\"start\":0,\"title\":\"Level Slider\",\"value\":1},\"id\":\"1060\",\"type\":\"Slider\"},{\"attributes\":{\"client_comm_id\":\"c1235c152be144e2ae63e6c5644d5192\",\"comm_id\":\"d2f295a9d3cd4dec92a9ceeaf686f94f\",\"plot_id\":\"1060\"},\"id\":\"1061\",\"type\":\"panel.models.comm_manager.CommManager\"}],\"root_ids\":[\"1060\",\"1061\"]},\"title\":\"Bokeh Application\",\"version\":\"2.4.3\"}};\n",
       "    var render_items = [{\"docid\":\"10965e13-cec3-4378-aba6-1c7975ec1f00\",\"root_ids\":[\"1060\"],\"roots\":{\"1060\":\"1659eef6-441d-4626-b98f-a179a685824b\"}}];\n",
       "    root.Bokeh.embed.embed_items_notebook(docs_json, render_items);\n",
       "  }\n",
       "  if (root.Bokeh !== undefined && root.Bokeh.Panel !== undefined && ( root['Tabulator'] !== undefined) && ( root['Tabulator'] !== undefined) && ( root['Tabulator'] !== undefined) && ( root['Tabulator'] !== undefined) && ( root['Tabulator'] !== undefined) && ( root['Tabulator'] !== undefined)) {\n",
       "    embed_document(root);\n",
       "  } else {\n",
       "    var attempts = 0;\n",
       "    var timer = setInterval(function(root) {\n",
       "      if (root.Bokeh !== undefined && root.Bokeh.Panel !== undefined && (root['Tabulator'] !== undefined) && (root['Tabulator'] !== undefined) && (root['Tabulator'] !== undefined) && (root['Tabulator'] !== undefined) && (root['Tabulator'] !== undefined) && (root['Tabulator'] !== undefined)) {\n",
       "        clearInterval(timer);\n",
       "        embed_document(root);\n",
       "      } else if (document.readyState == \"complete\") {\n",
       "        attempts++;\n",
       "        if (attempts > 200) {\n",
       "          clearInterval(timer);\n",
       "          console.log(\"Bokeh: ERROR: Unable to run BokehJS code because BokehJS library is missing\");\n",
       "        }\n",
       "      }\n",
       "    }, 25, root)\n",
       "  }\n",
       "})(window);</script>"
      ],
      "text/plain": [
       "IntSlider(end=10, name='Level Slider', value=1)"
      ]
     },
     "execution_count": 36,
     "metadata": {
      "application/vnd.holoviews_exec.v0+json": {
       "id": "1060"
      }
     },
     "output_type": "execute_result"
    }
   ],
   "source": [
    "level_slider = pn.widgets.IntSlider(name = 'Level Slider', start = 0, end =10, step =1 , value = 1)\n",
    "level_slider"
   ]
  },
  {
   "cell_type": "code",
   "execution_count": 37,
   "id": "9f9bcfc0-e63d-4258-ad78-40d0c4152683",
   "metadata": {},
   "outputs": [],
   "source": [
    "idf = df.interactive()"
   ]
  },
  {
   "cell_type": "code",
   "execution_count": 38,
   "id": "fca6170d-468d-4ccf-bded-4243f4083c00",
   "metadata": {},
   "outputs": [
    {
     "data": {},
     "metadata": {},
     "output_type": "display_data"
    },
    {
     "data": {
      "application/vnd.holoviews_exec.v0+json": "",
      "text/html": [
       "<div id='1062'>\n",
       "  <div class=\"bk-root\" id=\"b0af2fad-2ea4-4a4b-9f84-400b84184c45\" data-root-id=\"1062\"></div>\n",
       "</div>\n",
       "<script type=\"application/javascript\">(function(root) {\n",
       "  function embed_document(root) {\n",
       "    var docs_json = {\"691b5560-927b-4126-bd57-2686ce8a4052\":{\"defs\":[{\"extends\":null,\"module\":null,\"name\":\"ReactiveHTML1\",\"overrides\":[],\"properties\":[]},{\"extends\":null,\"module\":null,\"name\":\"FlexBox1\",\"overrides\":[],\"properties\":[{\"default\":\"flex-start\",\"kind\":null,\"name\":\"align_content\"},{\"default\":\"flex-start\",\"kind\":null,\"name\":\"align_items\"},{\"default\":\"row\",\"kind\":null,\"name\":\"flex_direction\"},{\"default\":\"wrap\",\"kind\":null,\"name\":\"flex_wrap\"},{\"default\":\"flex-start\",\"kind\":null,\"name\":\"justify_content\"}]},{\"extends\":null,\"module\":null,\"name\":\"GridStack1\",\"overrides\":[],\"properties\":[{\"default\":\"warn\",\"kind\":null,\"name\":\"mode\"},{\"default\":null,\"kind\":null,\"name\":\"ncols\"},{\"default\":null,\"kind\":null,\"name\":\"nrows\"},{\"default\":true,\"kind\":null,\"name\":\"allow_resize\"},{\"default\":true,\"kind\":null,\"name\":\"allow_drag\"},{\"default\":[],\"kind\":null,\"name\":\"state\"}]},{\"extends\":null,\"module\":null,\"name\":\"click1\",\"overrides\":[],\"properties\":[{\"default\":\"\",\"kind\":null,\"name\":\"terminal_output\"},{\"default\":\"\",\"kind\":null,\"name\":\"debug_name\"},{\"default\":0,\"kind\":null,\"name\":\"clears\"}]},{\"extends\":null,\"module\":null,\"name\":\"NotificationAreaBase1\",\"overrides\":[],\"properties\":[{\"default\":\"bottom-right\",\"kind\":null,\"name\":\"position\"},{\"default\":0,\"kind\":null,\"name\":\"_clear\"}]},{\"extends\":null,\"module\":null,\"name\":\"NotificationArea1\",\"overrides\":[],\"properties\":[{\"default\":[],\"kind\":null,\"name\":\"notifications\"},{\"default\":\"bottom-right\",\"kind\":null,\"name\":\"position\"},{\"default\":0,\"kind\":null,\"name\":\"_clear\"},{\"default\":[{\"background\":\"#ffc107\",\"icon\":{\"className\":\"fas fa-exclamation-triangle\",\"color\":\"white\",\"tagName\":\"i\"},\"type\":\"warning\"},{\"background\":\"#007bff\",\"icon\":{\"className\":\"fas fa-info-circle\",\"color\":\"white\",\"tagName\":\"i\"},\"type\":\"info\"}],\"kind\":null,\"name\":\"types\"}]},{\"extends\":null,\"module\":null,\"name\":\"Notification\",\"overrides\":[],\"properties\":[{\"default\":null,\"kind\":null,\"name\":\"background\"},{\"default\":3000,\"kind\":null,\"name\":\"duration\"},{\"default\":null,\"kind\":null,\"name\":\"icon\"},{\"default\":\"\",\"kind\":null,\"name\":\"message\"},{\"default\":null,\"kind\":null,\"name\":\"notification_type\"},{\"default\":false,\"kind\":null,\"name\":\"_destroyed\"}]},{\"extends\":null,\"module\":null,\"name\":\"TemplateActions1\",\"overrides\":[],\"properties\":[{\"default\":0,\"kind\":null,\"name\":\"open_modal\"},{\"default\":0,\"kind\":null,\"name\":\"close_modal\"}]},{\"extends\":null,\"module\":null,\"name\":\"MaterialTemplateActions1\",\"overrides\":[],\"properties\":[{\"default\":0,\"kind\":null,\"name\":\"open_modal\"},{\"default\":0,\"kind\":null,\"name\":\"close_modal\"}]}],\"roots\":{\"references\":[{\"attributes\":{\"children\":[{\"id\":\"1063\"}],\"margin\":[0,0,0,0],\"name\":\"Row01759\"},\"id\":\"1062\",\"type\":\"Row\"},{\"attributes\":{\"client_comm_id\":\"95395fba12ff4ebe96b7ca8f77cb0819\",\"comm_id\":\"4cf4a6365e104693994a5f2a0e50cd76\",\"plot_id\":\"1062\"},\"id\":\"1070\",\"type\":\"panel.models.comm_manager.CommManager\"},{\"attributes\":{\"children\":[{\"id\":\"1064\"},{\"id\":\"1068\"}],\"margin\":[0,0,0,0],\"name\":\"Column01758\"},\"id\":\"1063\",\"type\":\"Column\"},{\"attributes\":{\"children\":[{\"id\":\"1069\"}],\"margin\":[0,0,0,0],\"name\":\"Row01741\"},\"id\":\"1068\",\"type\":\"Row\"},{\"attributes\":{\"children\":[{\"id\":\"1066\"}],\"margin\":[0,0,0,0],\"name\":\"Column01736\"},\"id\":\"1065\",\"type\":\"Column\"},{\"attributes\":{\"margin\":[5,5,5,5],\"name\":\"DataFrame01754\",\"text\":\"&lt;table border=&quot;0&quot; class=&quot;dataframe panel-df&quot;&gt;\\n  &lt;thead&gt;\\n    &lt;tr style=&quot;text-align: right;&quot;&gt;\\n      &lt;th&gt;&lt;/th&gt;\\n      &lt;th&gt;PainLevel&lt;/th&gt;\\n      &lt;th&gt;Frequency&lt;/th&gt;\\n    &lt;/tr&gt;\\n  &lt;/thead&gt;\\n  &lt;tbody&gt;\\n    &lt;tr&gt;\\n      &lt;th&gt;0&lt;/th&gt;\\n      &lt;td&gt;2&lt;/td&gt;\\n      &lt;td&gt;5344&lt;/td&gt;\\n    &lt;/tr&gt;\\n    &lt;tr&gt;\\n      &lt;th&gt;2&lt;/th&gt;\\n      &lt;td&gt;3&lt;/td&gt;\\n      &lt;td&gt;3257&lt;/td&gt;\\n    &lt;/tr&gt;\\n    &lt;tr&gt;\\n      &lt;th&gt;3&lt;/th&gt;\\n      &lt;td&gt;5&lt;/td&gt;\\n      &lt;td&gt;2198&lt;/td&gt;\\n    &lt;/tr&gt;\\n    &lt;tr&gt;\\n      &lt;th&gt;4&lt;/th&gt;\\n      &lt;td&gt;7&lt;/td&gt;\\n      &lt;td&gt;2143&lt;/td&gt;\\n    &lt;/tr&gt;\\n    &lt;tr&gt;\\n      &lt;th&gt;5&lt;/th&gt;\\n      &lt;td&gt;6&lt;/td&gt;\\n      &lt;td&gt;2113&lt;/td&gt;\\n    &lt;/tr&gt;\\n    &lt;tr&gt;\\n      &lt;th&gt;6&lt;/th&gt;\\n      &lt;td&gt;4&lt;/td&gt;\\n      &lt;td&gt;1817&lt;/td&gt;\\n    &lt;/tr&gt;\\n    &lt;tr&gt;\\n      &lt;th&gt;7&lt;/th&gt;\\n      &lt;td&gt;8&lt;/td&gt;\\n      &lt;td&gt;942&lt;/td&gt;\\n    &lt;/tr&gt;\\n    &lt;tr&gt;\\n      &lt;th&gt;8&lt;/th&gt;\\n      &lt;td&gt;9&lt;/td&gt;\\n      &lt;td&gt;346&lt;/td&gt;\\n    &lt;/tr&gt;\\n    &lt;tr&gt;\\n      &lt;th&gt;9&lt;/th&gt;\\n      &lt;td&gt;10&lt;/td&gt;\\n      &lt;td&gt;153&lt;/td&gt;\\n    &lt;/tr&gt;\\n  &lt;/tbody&gt;\\n&lt;/table&gt;\"},\"id\":\"1069\",\"type\":\"panel.models.markup.HTML\"},{\"attributes\":{\"children\":[{\"id\":\"1065\"},{\"id\":\"1067\"}],\"margin\":[0,0,0,0],\"name\":\"Row01757\"},\"id\":\"1064\",\"type\":\"Row\"},{\"attributes\":{\"end\":10,\"margin\":[5,10,5,10],\"start\":0,\"title\":\"Level Slider\",\"value\":1},\"id\":\"1066\",\"type\":\"Slider\"},{\"attributes\":{\"margin\":[5,5,5,5],\"name\":\"HSpacer01756\",\"sizing_mode\":\"stretch_width\"},\"id\":\"1067\",\"type\":\"Spacer\"}],\"root_ids\":[\"1062\",\"1070\"]},\"title\":\"Bokeh Application\",\"version\":\"2.4.3\"}};\n",
       "    var render_items = [{\"docid\":\"691b5560-927b-4126-bd57-2686ce8a4052\",\"root_ids\":[\"1062\"],\"roots\":{\"1062\":\"b0af2fad-2ea4-4a4b-9f84-400b84184c45\"}}];\n",
       "    root.Bokeh.embed.embed_items_notebook(docs_json, render_items);\n",
       "  }\n",
       "  if (root.Bokeh !== undefined && root.Bokeh.Panel !== undefined && ( root['Tabulator'] !== undefined) && ( root['Tabulator'] !== undefined) && ( root['Tabulator'] !== undefined) && ( root['Tabulator'] !== undefined) && ( root['Tabulator'] !== undefined) && ( root['Tabulator'] !== undefined)) {\n",
       "    embed_document(root);\n",
       "  } else {\n",
       "    var attempts = 0;\n",
       "    var timer = setInterval(function(root) {\n",
       "      if (root.Bokeh !== undefined && root.Bokeh.Panel !== undefined && (root['Tabulator'] !== undefined) && (root['Tabulator'] !== undefined) && (root['Tabulator'] !== undefined) && (root['Tabulator'] !== undefined) && (root['Tabulator'] !== undefined) && (root['Tabulator'] !== undefined)) {\n",
       "        clearInterval(timer);\n",
       "        embed_document(root);\n",
       "      } else if (document.readyState == \"complete\") {\n",
       "        attempts++;\n",
       "        if (attempts > 200) {\n",
       "          clearInterval(timer);\n",
       "          console.log(\"Bokeh: ERROR: Unable to run BokehJS code because BokehJS library is missing\");\n",
       "        }\n",
       "      }\n",
       "    }, 25, root)\n",
       "  }\n",
       "})(window);</script>"
      ],
      "text/plain": [
       "<hvplot.interactive.Interactive at 0x2436128de08>"
      ]
     },
     "execution_count": 38,
     "metadata": {
      "application/vnd.holoviews_exec.v0+json": {
       "id": "1062"
      }
     },
     "output_type": "execute_result"
    }
   ],
   "source": [
    "aa = idf[idf['PainLevel'] > level_slider].head(20)\n",
    "aa"
   ]
  },
  {
   "cell_type": "code",
   "execution_count": 39,
   "id": "8a45f862-1997-478f-919d-7bcd4f32eb1d",
   "metadata": {},
   "outputs": [],
   "source": [
    "aa=idf[idf['PainLevel'] > level_slider].plot(y='Frequency', kind = 'bar')"
   ]
  },
  {
   "cell_type": "code",
   "execution_count": 40,
   "id": "f4c056f3-8524-45fe-a59f-a87ee987306c",
   "metadata": {},
   "outputs": [
    {
     "data": {},
     "metadata": {},
     "output_type": "display_data"
    },
    {
     "data": {
      "application/vnd.holoviews_exec.v0+json": "",
      "text/html": [
       "<div id='1071'>\n",
       "  <div class=\"bk-root\" id=\"1518b227-ecf7-4ace-bd30-d8341520a7b8\" data-root-id=\"1071\"></div>\n",
       "</div>\n",
       "<script type=\"application/javascript\">(function(root) {\n",
       "  function embed_document(root) {\n",
       "    var docs_json = {\"744ee252-43f8-45c1-a121-bf12fdf65aeb\":{\"defs\":[{\"extends\":null,\"module\":null,\"name\":\"ReactiveHTML1\",\"overrides\":[],\"properties\":[]},{\"extends\":null,\"module\":null,\"name\":\"FlexBox1\",\"overrides\":[],\"properties\":[{\"default\":\"flex-start\",\"kind\":null,\"name\":\"align_content\"},{\"default\":\"flex-start\",\"kind\":null,\"name\":\"align_items\"},{\"default\":\"row\",\"kind\":null,\"name\":\"flex_direction\"},{\"default\":\"wrap\",\"kind\":null,\"name\":\"flex_wrap\"},{\"default\":\"flex-start\",\"kind\":null,\"name\":\"justify_content\"}]},{\"extends\":null,\"module\":null,\"name\":\"GridStack1\",\"overrides\":[],\"properties\":[{\"default\":\"warn\",\"kind\":null,\"name\":\"mode\"},{\"default\":null,\"kind\":null,\"name\":\"ncols\"},{\"default\":null,\"kind\":null,\"name\":\"nrows\"},{\"default\":true,\"kind\":null,\"name\":\"allow_resize\"},{\"default\":true,\"kind\":null,\"name\":\"allow_drag\"},{\"default\":[],\"kind\":null,\"name\":\"state\"}]},{\"extends\":null,\"module\":null,\"name\":\"click1\",\"overrides\":[],\"properties\":[{\"default\":\"\",\"kind\":null,\"name\":\"terminal_output\"},{\"default\":\"\",\"kind\":null,\"name\":\"debug_name\"},{\"default\":0,\"kind\":null,\"name\":\"clears\"}]},{\"extends\":null,\"module\":null,\"name\":\"NotificationAreaBase1\",\"overrides\":[],\"properties\":[{\"default\":\"bottom-right\",\"kind\":null,\"name\":\"position\"},{\"default\":0,\"kind\":null,\"name\":\"_clear\"}]},{\"extends\":null,\"module\":null,\"name\":\"NotificationArea1\",\"overrides\":[],\"properties\":[{\"default\":[],\"kind\":null,\"name\":\"notifications\"},{\"default\":\"bottom-right\",\"kind\":null,\"name\":\"position\"},{\"default\":0,\"kind\":null,\"name\":\"_clear\"},{\"default\":[{\"background\":\"#ffc107\",\"icon\":{\"className\":\"fas fa-exclamation-triangle\",\"color\":\"white\",\"tagName\":\"i\"},\"type\":\"warning\"},{\"background\":\"#007bff\",\"icon\":{\"className\":\"fas fa-info-circle\",\"color\":\"white\",\"tagName\":\"i\"},\"type\":\"info\"}],\"kind\":null,\"name\":\"types\"}]},{\"extends\":null,\"module\":null,\"name\":\"Notification\",\"overrides\":[],\"properties\":[{\"default\":null,\"kind\":null,\"name\":\"background\"},{\"default\":3000,\"kind\":null,\"name\":\"duration\"},{\"default\":null,\"kind\":null,\"name\":\"icon\"},{\"default\":\"\",\"kind\":null,\"name\":\"message\"},{\"default\":null,\"kind\":null,\"name\":\"notification_type\"},{\"default\":false,\"kind\":null,\"name\":\"_destroyed\"}]},{\"extends\":null,\"module\":null,\"name\":\"TemplateActions1\",\"overrides\":[],\"properties\":[{\"default\":0,\"kind\":null,\"name\":\"open_modal\"},{\"default\":0,\"kind\":null,\"name\":\"close_modal\"}]},{\"extends\":null,\"module\":null,\"name\":\"MaterialTemplateActions1\",\"overrides\":[],\"properties\":[{\"default\":0,\"kind\":null,\"name\":\"open_modal\"},{\"default\":0,\"kind\":null,\"name\":\"close_modal\"}]}],\"roots\":{\"references\":[{\"attributes\":{\"children\":[{\"id\":\"1072\"}],\"margin\":[0,0,0,0],\"name\":\"Row01856\"},\"id\":\"1071\",\"type\":\"Row\"},{\"attributes\":{\"children\":[{\"id\":\"1074\"},{\"id\":\"1078\"}],\"margin\":[0,0,0,0],\"name\":\"Column01879\"},\"id\":\"1073\",\"type\":\"Column\"},{\"attributes\":{\"end\":10,\"margin\":[5,10,5,10],\"start\":0,\"title\":\"Level Slider\",\"value\":1},\"id\":\"1076\",\"type\":\"Slider\"},{\"attributes\":{\"children\":[{\"id\":\"1076\"}],\"margin\":[0,0,0,0],\"name\":\"Column01857\"},\"id\":\"1075\",\"type\":\"Column\"},{\"attributes\":{\"children\":[{\"id\":\"1075\"},{\"id\":\"1077\"}],\"margin\":[0,0,0,0],\"name\":\"Row01878\"},\"id\":\"1074\",\"type\":\"Row\"},{\"attributes\":{\"children\":[{\"id\":\"1079\"}],\"margin\":[0,0,0,0],\"name\":\"Row01862\"},\"id\":\"1078\",\"type\":\"Row\"},{\"attributes\":{\"children\":[{\"id\":\"1073\"}],\"margin\":[5,5,5,5],\"name\":\"Row01880\"},\"id\":\"1072\",\"type\":\"Row\"},{\"attributes\":{\"height\":576,\"margin\":[5,5,5,5],\"name\":\"ParamFunction01858\",\"text\":\"&lt;img src=&quot;data:image/png;base64,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&quot; width=&quot;864px&quot; height=&quot;576px&quot; alt=&quot;&quot;&gt;&lt;/img&gt;\",\"width\":864},\"id\":\"1079\",\"type\":\"panel.models.markup.HTML\"},{\"attributes\":{\"margin\":[5,5,5,5],\"name\":\"HSpacer01877\",\"sizing_mode\":\"stretch_width\"},\"id\":\"1077\",\"type\":\"Spacer\"},{\"attributes\":{\"client_comm_id\":\"7318da852f61439eb51d64eca2794589\",\"comm_id\":\"2408515cad9b49898d949189eeec1c5e\",\"plot_id\":\"1071\"},\"id\":\"1080\",\"type\":\"panel.models.comm_manager.CommManager\"}],\"root_ids\":[\"1071\",\"1080\"]},\"title\":\"Bokeh Application\",\"version\":\"2.4.3\"}};\n",
       "    var render_items = [{\"docid\":\"744ee252-43f8-45c1-a121-bf12fdf65aeb\",\"root_ids\":[\"1071\"],\"roots\":{\"1071\":\"1518b227-ecf7-4ace-bd30-d8341520a7b8\"}}];\n",
       "    root.Bokeh.embed.embed_items_notebook(docs_json, render_items);\n",
       "  }\n",
       "  if (root.Bokeh !== undefined && root.Bokeh.Panel !== undefined && ( root['Tabulator'] !== undefined) && ( root['Tabulator'] !== undefined) && ( root['Tabulator'] !== undefined) && ( root['Tabulator'] !== undefined) && ( root['Tabulator'] !== undefined) && ( root['Tabulator'] !== undefined)) {\n",
       "    embed_document(root);\n",
       "  } else {\n",
       "    var attempts = 0;\n",
       "    var timer = setInterval(function(root) {\n",
       "      if (root.Bokeh !== undefined && root.Bokeh.Panel !== undefined && (root['Tabulator'] !== undefined) && (root['Tabulator'] !== undefined) && (root['Tabulator'] !== undefined) && (root['Tabulator'] !== undefined) && (root['Tabulator'] !== undefined) && (root['Tabulator'] !== undefined)) {\n",
       "        clearInterval(timer);\n",
       "        embed_document(root);\n",
       "      } else if (document.readyState == \"complete\") {\n",
       "        attempts++;\n",
       "        if (attempts > 200) {\n",
       "          clearInterval(timer);\n",
       "          console.log(\"Bokeh: ERROR: Unable to run BokehJS code because BokehJS library is missing\");\n",
       "        }\n",
       "      }\n",
       "    }, 25, root)\n",
       "  }\n",
       "})(window);</script>"
      ],
      "text/plain": [
       "Interactive(Interactive)"
      ]
     },
     "execution_count": 40,
     "metadata": {
      "application/vnd.holoviews_exec.v0+json": {
       "id": "1071"
      }
     },
     "output_type": "execute_result"
    }
   ],
   "source": [
    "pane = pn.panel(aa)\n",
    "pane"
   ]
  },
  {
   "cell_type": "code",
   "execution_count": 41,
   "id": "36772aad",
   "metadata": {},
   "outputs": [
    {
     "name": "stderr",
     "output_type": "stream",
     "text": [
      "WARNING:param.FastListTemplate01934: Setting non-parameter attribute header_backfround=#88d8b0 using a mechanism intended only for parameters\n"
     ]
    }
   ],
   "source": [
    "template = pn.template.FastListTemplate(\n",
    "    title = 'Demo Temp',\n",
    "    sidebar = [pn.pane.Markdown(\"#Sample Demo\"),\n",
    "               level_slider],\n",
    "    main=[pn.Row(pn.Column(aa.panel(width=700), margin=(0,25)))],\n",
    "    accent_base_color=\"#88d8b0\",\n",
    "    header_backfround=\"#88d8b0\",\n",
    ")\n",
    "\n",
    "template.servable();             "
   ]
  },
  {
   "cell_type": "code",
   "execution_count": null,
   "id": "9478c3fa-e110-40f4-b981-75f04543d8d4",
   "metadata": {},
   "outputs": [],
   "source": []
  },
  {
   "cell_type": "code",
   "execution_count": null,
   "id": "fafa88b6-d48e-41b3-a1f7-973f3e01c1f7",
   "metadata": {},
   "outputs": [],
   "source": []
  }
 ],
 "metadata": {
  "kernelspec": {
   "display_name": "Python 3 (ipykernel)",
   "language": "python",
   "name": "python3"
  },
  "language_info": {
   "codemirror_mode": {
    "name": "ipython",
    "version": 3
   },
   "file_extension": ".py",
   "mimetype": "text/x-python",
   "name": "python",
   "nbconvert_exporter": "python",
   "pygments_lexer": "ipython3",
   "version": "3.7.7"
  }
 },
 "nbformat": 4,
 "nbformat_minor": 5
}
